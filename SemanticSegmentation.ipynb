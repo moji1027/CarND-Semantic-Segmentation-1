{
 "cells": [
  {
   "cell_type": "code",
   "execution_count": 4,
   "metadata": {},
   "outputs": [
    {
     "name": "stdout",
     "output_type": "stream",
     "text": [
      "TensorFlow Version: 1.5.0\n"
     ]
    },
    {
     "name": "stderr",
     "output_type": "stream",
     "text": [
      "/Library/Frameworks/Python.framework/Versions/2.7/lib/python2.7/site-packages/ipykernel_launcher.py:18: UserWarning: No GPU found. Please use a GPU to train your neural network.\n"
     ]
    }
   ],
   "source": [
    "import time\n",
    "import os.path\n",
    "import helper\n",
    "import warnings\n",
    "import scipy.misc\n",
    "import tensorflow as tf\n",
    "from datetime import timedelta\n",
    "from distutils.version import LooseVersion\n",
    "import project_tests as tests\n",
    "\n",
    "\n",
    "# Check TensorFlow Version\n",
    "assert LooseVersion(tf.__version__) >= LooseVersion('1.0'), 'Please use TensorFlow version 1.0 or newer.  You are using {}'.format(tf.__version__)\n",
    "print('TensorFlow Version: {}'.format(tf.__version__))\n",
    "\n",
    "# Check for a GPU\n",
    "if not tf.test.gpu_device_name():\n",
    "    warnings.warn('No GPU found. Please use a GPU to train your neural network.')\n",
    "else:\n",
    "    print('Default GPU Device: {}'.format(tf.test.gpu_device_name()))"
   ]
  },
  {
   "cell_type": "markdown",
   "metadata": {},
   "source": [
    "### Set constants and veriables"
   ]
  },
  {
   "cell_type": "code",
   "execution_count": 5,
   "metadata": {},
   "outputs": [],
   "source": [
    "L2_REG = 1e-5\n",
    "STDEV = 1e-3\n",
    "KEEP_PROB = 0.5\n",
    "LEARNING_RATE = 1e-4\n",
    "EPOCHS = 20\n",
    "BATCH_SIZE = 16 # I have a modern GPU and do not have problems with uth up to 32, but in does not help for semantic segmentation\n",
    "IMAGE_SHAPE = (160, 576)\n",
    "NUM_CLASSES = 2\n",
    "\n",
    "DATA_DIR = './data'\n",
    "RUNS_DIR = './runs'\n",
    "MODEL_DIR = './models_3col'"
   ]
  },
  {
   "cell_type": "code",
   "execution_count": 6,
   "metadata": {},
   "outputs": [
    {
     "name": "stdout",
     "output_type": "stream",
     "text": [
      "Load VGG Model:\n",
      "Tests Passed\n"
     ]
    }
   ],
   "source": [
    "def load_vgg(sess, vgg_path):\n",
    "    \"\"\"\n",
    "    Load Pretrained VGG Model into TensorFlow.\n",
    "    :param sess: TensorFlow Session\n",
    "    :param vgg_path: Path to vgg folder, containing \"variables/\" and \"saved_model.pb\"\n",
    "    :return: Tuple of Tensors from VGG model (image_input, keep_prob, layer3_out, layer4_out, layer7_out)\n",
    "    \"\"\"\n",
    "    vgg_tag = 'vgg16'\n",
    "    vgg_input_tensor_name = 'image_input:0'\n",
    "    vgg_keep_prob_tensor_name = 'keep_prob:0'\n",
    "    vgg_layer3_out_tensor_name = 'layer3_out:0'\n",
    "    vgg_layer4_out_tensor_name = 'layer4_out:0'\n",
    "    vgg_layer7_out_tensor_name = 'layer7_out:0'\n",
    "    graph = tf.get_default_graph()\n",
    "    tf.saved_model.loader.load(sess, [vgg_tag], vgg_path)\n",
    "    input = graph.get_tensor_by_name(vgg_input_tensor_name)\n",
    "    keep_prob = graph.get_tensor_by_name(vgg_keep_prob_tensor_name)\n",
    "    layer3 = graph.get_tensor_by_name(vgg_layer3_out_tensor_name)\n",
    "    layer4 = graph.get_tensor_by_name(vgg_layer4_out_tensor_name)\n",
    "    layer7 = graph.get_tensor_by_name(vgg_layer7_out_tensor_name)\n",
    "    return input, keep_prob, layer3, layer4, layer7\n",
    "\n",
    "print(\"Load VGG Model:\")\n",
    "tests.test_load_vgg(load_vgg, tf)"
   ]
  },
  {
   "cell_type": "code",
   "execution_count": 7,
   "metadata": {},
   "outputs": [
    {
     "name": "stdout",
     "output_type": "stream",
     "text": [
      "Layers Test:\n",
      "Tests Passed\n"
     ]
    }
   ],
   "source": [
    "def layers(vgg_layer3_out, vgg_layer4_out, vgg_layer7_out, num_classes):\n",
    "    \"\"\"\n",
    "    Create the layers for a fully convolutional network.  Build skip-layers using the vgg layers.\n",
    "    :param vgg_layer7_out: TF Tensor for VGG Layer 3 output\n",
    "    :param vgg_layer4_out: TF Tensor for VGG Layer 4 output\n",
    "    :param vgg_layer3_out: TF Tensor for VGG Layer 7 output\n",
    "    :param num_classes: Number of classes to classify\n",
    "    :return: The Tensor for the last layer of output\n",
    "    \"\"\"\n",
    "    layer7_conv_1x1 = tf.layers.conv2d(vgg_layer7_out, num_classes, 1, 1,\n",
    "                                       padding='same', kernel_initializer=tf.random_normal_initializer(stddev=STDEV),\n",
    "                                       kernel_regularizer=tf.contrib.layers.l2_regularizer(L2_REG))\n",
    "    output = tf.layers.conv2d_transpose(layer7_conv_1x1, num_classes, 4, 2,\n",
    "                                        padding='same', kernel_initializer=tf.random_normal_initializer(stddev=STDEV),\n",
    "                                        kernel_regularizer=tf.contrib.layers.l2_regularizer(L2_REG))\n",
    "    layer4_conv_1x1 = tf.layers.conv2d(vgg_layer4_out, num_classes, 1, 1,\n",
    "                                       padding='same', kernel_initializer=tf.random_normal_initializer(stddev=STDEV),\n",
    "                                       kernel_regularizer=tf.contrib.layers.l2_regularizer(L2_REG))\n",
    "    output = tf.add(output, layer4_conv_1x1)\n",
    "    output = tf.layers.conv2d_transpose(output, num_classes, 4, 2,\n",
    "                                        padding='same', kernel_initializer=tf.random_normal_initializer(stddev=STDEV),\n",
    "                                        kernel_regularizer=tf.contrib.layers.l2_regularizer(L2_REG))\n",
    "    layer3_conv_1x1 = tf.layers.conv2d(vgg_layer3_out, num_classes, 1, 1,\n",
    "                                       padding='same', kernel_initializer=tf.random_normal_initializer(stddev=STDEV),\n",
    "                                       kernel_regularizer=tf.contrib.layers.l2_regularizer(L2_REG))\n",
    "    output = tf.add(output, layer3_conv_1x1)\n",
    "    output = tf.layers.conv2d_transpose(output, num_classes, 16, 8,\n",
    "                                        padding='same', kernel_initializer=tf.random_normal_initializer(stddev=STDEV),\n",
    "                                        kernel_regularizer=tf.contrib.layers.l2_regularizer(L2_REG))   \n",
    "    return output\n",
    "\n",
    "print(\"Layers Test:\")\n",
    "tests.test_layers(layers)"
   ]
  },
  {
   "cell_type": "code",
   "execution_count": null,
   "metadata": {},
   "outputs": [],
   "source": []
  }
 ],
 "metadata": {
  "kernelspec": {
   "display_name": "Python 3",
   "language": "python",
   "name": "python3"
  },
  "language_info": {
   "codemirror_mode": {
    "name": "ipython",
    "version": 2
   },
   "file_extension": ".py",
   "mimetype": "text/x-python",
   "name": "python",
   "nbconvert_exporter": "python",
   "pygments_lexer": "ipython2",
   "version": "2.7.12"
  }
 },
 "nbformat": 4,
 "nbformat_minor": 2
}
